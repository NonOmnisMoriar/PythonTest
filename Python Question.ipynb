{
 "cells": [
  {
   "cell_type": "markdown",
   "metadata": {},
   "source": [
    "### Analyze and visualize the relationship between orders, time and order_status in the attached csv file using Python or R.\n",
    "\n",
    "\n",
    "1. Load the “orders.csv” file into Python\n",
    "2. The file contains a subset of 10,000 orders\n"
   ]
  },
  {
   "cell_type": "code",
   "execution_count": null,
   "metadata": {},
   "outputs": [],
   "source": [
    "# Load CSV file, define types and parse dates\n",
    "\n",
    "import numpy as np\n",
    "import pandas as pd\n",
    "import altair as alt\n",
    "\n",
    "dtypes = {\"order_id\": \"category\",\"order_status\": \"category\", \"created_at\": \"object\",}\n",
    "df_order = pd.read_csv(\"orders.csv\", dtype=dtypes, usecols=list(dtypes) + [\"order_id\", \"order_status\", \"created_at\"], parse_dates=[\"created_at\"], dayfirst=True)"
   ]
  },
  {
   "cell_type": "markdown",
   "metadata": {},
   "source": [
    "# Orders by Day"
   ]
  },
  {
   "cell_type": "code",
   "execution_count": null,
   "metadata": {
    "scrolled": true
   },
   "outputs": [],
   "source": [
    "df_orders_by_day = df_order.groupby(['created_at'])['order_id'].count().reset_index()\n",
    "df_orders_by_day = df_orders_by_day.rename(columns={'created_at': 'Date', 'order_id': 'Total'})\n",
    "df_orders_by_day.head()\n",
    "\n",
    "alt.Chart(df_orders_by_day).mark_bar().encode(\n",
    "    x = 'Date',\n",
    "    y = 'Total'\n",
    ").interactive().properties(\n",
    "    width=800,\n",
    "    height=400\n",
    ")"
   ]
  },
  {
   "cell_type": "markdown",
   "metadata": {},
   "source": [
    "# Add Weekends & Weekdays"
   ]
  },
  {
   "cell_type": "code",
   "execution_count": null,
   "metadata": {
    "scrolled": true
   },
   "outputs": [],
   "source": [
    "df_orders_by_day_plusWD = df_orders_by_day\n",
    "df_orders_by_day_plusWD['Day of Week'] = df_orders_by_day_plusWD['Date'].dt.day_name()\n",
    "df_orders_by_day_plusWD\n",
    "\n",
    "alt.Chart(df_orders_by_day_plusWD).mark_bar().encode(\n",
    "    x = 'Date',\n",
    "    y = 'Total',\n",
    "    color='Day of Week',\n",
    ").interactive().properties(\n",
    "    width=800,\n",
    "    height=400\n",
    ")"
   ]
  },
  {
   "cell_type": "markdown",
   "metadata": {},
   "source": [
    "# Orders by Day and Order Status"
   ]
  },
  {
   "cell_type": "code",
   "execution_count": null,
   "metadata": {
    "scrolled": true
   },
   "outputs": [],
   "source": [
    "df_orders_by_day = df_order.groupby(['created_at','order_status'])['order_id'].count().reset_index()\n",
    "df_orders_by_day = df_orders_by_day.rename(columns={'created_at': 'Date', 'order_status': 'Order Status', 'order_id': 'Total'})\n",
    "df_orders_by_day.head()\n",
    "\n",
    "alt.Chart(df_orders_by_day).mark_bar().encode(\n",
    "    x = 'Date',\n",
    "    y = 'Total',\n",
    "    color='Order Status', \n",
    ").interactive().properties(\n",
    "    width=800,\n",
    "    height=400\n",
    ")"
   ]
  },
  {
   "cell_type": "code",
   "execution_count": null,
   "metadata": {},
   "outputs": [],
   "source": [
    "alt.Chart(df_orders_by_day).mark_line(strokeWidth=4).encode(\n",
    "    x = 'Date',\n",
    "    y = 'Total',\n",
    "    color='Order Status', \n",
    ").interactive().properties(\n",
    "    width=800,\n",
    "    height=400\n",
    ")"
   ]
  },
  {
   "cell_type": "markdown",
   "metadata": {},
   "source": [
    "# Filter to speicifc dates"
   ]
  },
  {
   "cell_type": "code",
   "execution_count": null,
   "metadata": {},
   "outputs": [],
   "source": [
    "df_orders_by_day_filtered = df_orders_by_day[(df_orders_by_day.Date >= '2018-09-01') & (df_orders_by_day.Date <= '2018-09-10')]\n",
    "\n",
    "\n",
    "alt.Chart(df_orders_by_day_filtered).mark_line(strokeWidth=5).encode(\n",
    "    x = 'Date',\n",
    "    y = 'Total',\n",
    "    color = 'Order Status',\n",
    ").interactive().properties(\n",
    "    width=800,\n",
    "    height=500    \n",
    ")"
   ]
  },
  {
   "cell_type": "markdown",
   "metadata": {},
   "source": [
    "# Combine Weekday with Order Status in new visual"
   ]
  },
  {
   "cell_type": "code",
   "execution_count": null,
   "metadata": {},
   "outputs": [],
   "source": [
    "df_orders_by_day['Day of Week'] = df_orders_by_day['Date'].dt.day_name()\n",
    "\n",
    "alt.Chart(df_orders_by_day).mark_rect().encode(\n",
    "    x = 'Day of Week',\n",
    "    y = 'Order Status',\n",
    "    color = 'Total',\n",
    ").properties(\n",
    "    width=600,\n",
    "    height=400\n",
    ")"
   ]
  },
  {
   "cell_type": "markdown",
   "metadata": {},
   "source": [
    "# Combine Weekday with Order Status in new visual\n",
    "## Exclude 'dispatched status'"
   ]
  },
  {
   "cell_type": "code",
   "execution_count": null,
   "metadata": {},
   "outputs": [],
   "source": [
    "df_orders_by_day_filtered_excl_dispatched = df_orders_by_day[(df_orders_by_day['Order Status'] != 'dispatched') & (df_orders_by_day['Order Status'] != 'partially_refunded')]\n",
    "\n",
    "alt.Chart(df_orders_by_day_filtered_excl_dispatched).mark_rect().encode(\n",
    "    x = 'Day of Week',\n",
    "    y = 'Order Status',\n",
    "    color = 'Total',\n",
    ").properties(\n",
    "    width=600,\n",
    "    height=400,\n",
    ")"
   ]
  }
 ],
 "metadata": {
  "kernelspec": {
   "display_name": "Python 3",
   "language": "python",
   "name": "python3"
  },
  "language_info": {
   "codemirror_mode": {
    "name": "ipython",
    "version": 3
   },
   "file_extension": ".py",
   "mimetype": "text/x-python",
   "name": "python",
   "nbconvert_exporter": "python",
   "pygments_lexer": "ipython3",
   "version": "3.7.4"
  }
 },
 "nbformat": 4,
 "nbformat_minor": 2
}
